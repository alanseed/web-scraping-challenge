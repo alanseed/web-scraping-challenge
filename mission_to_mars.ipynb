{
 "cells": [
  {
   "cell_type": "code",
   "execution_count": 66,
   "source": [
    "from splinter import Browser\r\n",
    "from bs4 import BeautifulSoup as bs\r\n",
    "import time\r\n",
    "from webdriver_manager.chrome import ChromeDriverManager"
   ],
   "outputs": [],
   "metadata": {}
  },
  {
   "cell_type": "code",
   "execution_count": 67,
   "source": [
    "def get_last_news():\r\n",
    "    url_base = \"https://redplanetscience.com/\"\r\n",
    "    executable_path = {'executable_path': ChromeDriverManager().install()}\r\n",
    "    browser = Browser('chrome', **executable_path, headless=False)\r\n",
    "    browser.visit(url_base)\r\n",
    "    html = browser.html\r\n",
    "\r\n",
    "    soup = bs(html, \"html.parser\")\r\n",
    "    news = soup.find('div',id='news')\r\n",
    "    last = news.find(\"div\", class_ = 'list_text')\r\n",
    "    title = last.find(\"div\", class_ = 'content_title').text \r\n",
    "    para = last.find(\"div\", class_ = 'article_teaser_body').text \r\n",
    "    list_date = last.find(\"div\", class_ = 'list_date').text \r\n",
    "    \r\n",
    "    browser.quit() \r\n",
    "\r\n",
    "    return list_date, title, para"
   ],
   "outputs": [],
   "metadata": {}
  },
  {
   "cell_type": "code",
   "execution_count": 68,
   "source": [
    "list_date,title,para = get_last_news()     \r\n",
    "print(f\"title = {title}\")\r\n",
    "print(f\"text = {para}\")\r\n",
    "print(f\"date = {list_date}\")"
   ],
   "outputs": [
    {
     "output_type": "stream",
     "name": "stderr",
     "text": [
      "\n",
      "\n",
      "====== WebDriver manager ======\n",
      "Current google-chrome version is 92.0.4515\n",
      "Get LATEST driver version for 92.0.4515\n",
      "Driver [C:\\Users\\alans\\.wdm\\drivers\\chromedriver\\win32\\92.0.4515.43\\chromedriver.exe] found in cache\n"
     ]
    },
    {
     "output_type": "stream",
     "name": "stdout",
     "text": [
      "title = 10.9 Million Names Now Aboard NASA's Perseverance Mars Rover\n",
      "text = As part of NASA's 'Send Your Name to Mars' campaign, they've been stenciled onto three microchips along with essays from NASA's 'Name the Rover' contest. Next stop: Mars.\n",
      "date = July 27, 2021\n"
     ]
    }
   ],
   "metadata": {}
  },
  {
   "cell_type": "code",
   "execution_count": 73,
   "source": [
    "def get_mars_image():\r\n",
    "    url_base = \"https://spaceimages-mars.com/\"\r\n",
    "    executable_path = {'executable_path': ChromeDriverManager().install()}\r\n",
    "    browser = Browser('chrome', **executable_path, headless=False)\r\n",
    "    browser.visit(url_base)\r\n",
    "    html = browser.html\r\n",
    "    soup = bs(html, \"html.parser\")\r\n",
    "    header=soup.find('img', class_=\"headerimage\")\r\n",
    "    url = url_base + header['src']\r\n",
    "    browser.quit()\r\n",
    "    return url\r\n"
   ],
   "outputs": [
    {
     "output_type": "stream",
     "name": "stderr",
     "text": [
      "\n",
      "\n",
      "====== WebDriver manager ======\n",
      "Current google-chrome version is 92.0.4515\n",
      "Get LATEST driver version for 92.0.4515\n",
      "Driver [C:\\Users\\alans\\.wdm\\drivers\\chromedriver\\win32\\92.0.4515.43\\chromedriver.exe] found in cache\n"
     ]
    }
   ],
   "metadata": {}
  },
  {
   "cell_type": "code",
   "execution_count": 88,
   "source": [
    "\r\n",
    "url = get_mars_image() \r\n",
    "print(f\"Mars image = {url}\")"
   ],
   "outputs": [
    {
     "output_type": "execute_result",
     "data": {
      "text/plain": [
       "'https://spaceimages-mars.com/image/featured/mars2.jpg'"
      ]
     },
     "metadata": {},
     "execution_count": 88
    }
   ],
   "metadata": {}
  }
 ],
 "metadata": {
  "orig_nbformat": 4,
  "language_info": {
   "name": "python",
   "version": "3.8.5",
   "mimetype": "text/x-python",
   "codemirror_mode": {
    "name": "ipython",
    "version": 3
   },
   "pygments_lexer": "ipython3",
   "nbconvert_exporter": "python",
   "file_extension": ".py"
  },
  "kernelspec": {
   "name": "python3",
   "display_name": "Python 3.8.5 64-bit ('PythonData': conda)"
  },
  "interpreter": {
   "hash": "9bffe33b5fd20bd79db2aeb53e20f32ff9281612073e95f8cc7d91022c1172a1"
  }
 },
 "nbformat": 4,
 "nbformat_minor": 2
}