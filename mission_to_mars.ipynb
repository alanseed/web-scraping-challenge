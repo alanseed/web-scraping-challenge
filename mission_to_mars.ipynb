{
 "cells": [
  {
   "cell_type": "markdown",
   "source": [
    "# Notebook to develop and test the scraping functions that will be used in the app"
   ],
   "metadata": {}
  },
  {
   "cell_type": "code",
   "execution_count": 93,
   "source": [
    "from splinter import Browser\r\n",
    "from bs4 import BeautifulSoup as bs\r\n",
    "import time\r\n",
    "from webdriver_manager.chrome import ChromeDriverManager\r\n",
    "import pandas as pd"
   ],
   "outputs": [],
   "metadata": {}
  },
  {
   "cell_type": "markdown",
   "source": [
    "## Set up each scraping activity as a function to make it easier to port into the app"
   ],
   "metadata": {}
  },
  {
   "cell_type": "code",
   "execution_count": 94,
   "source": [
    "def get_last_news():\r\n",
    "    url_base = \"https://redplanetscience.com/\"\r\n",
    "    executable_path = {'executable_path': ChromeDriverManager().install()}\r\n",
    "    browser = Browser('chrome', **executable_path, headless=False)\r\n",
    "    browser.visit(url_base)\r\n",
    "    time.sleep(5)\r\n",
    "    \r\n",
    "    html = browser.html\r\n",
    "    soup = bs(html, \"html.parser\")\r\n",
    "    news = soup.find('div',id='news')\r\n",
    "    last = news.find(\"div\", class_ = 'list_text')\r\n",
    "    title = last.find(\"div\", class_ = 'content_title').text \r\n",
    "    para = last.find(\"div\", class_ = 'article_teaser_body').text \r\n",
    "    list_date = last.find(\"div\", class_ = 'list_date').text \r\n",
    "    \r\n",
    "    browser.quit() \r\n",
    "\r\n",
    "    return list_date, title, para"
   ],
   "outputs": [],
   "metadata": {}
  },
  {
   "cell_type": "code",
   "execution_count": 95,
   "source": [
    "def get_mars_image():\r\n",
    "    url_base = \"https://spaceimages-mars.com/\"\r\n",
    "    executable_path = {'executable_path': ChromeDriverManager().install()}\r\n",
    "    browser = Browser('chrome', **executable_path, headless=False)\r\n",
    "    browser.visit(url_base)\r\n",
    "    time.sleep(5)\r\n",
    "    \r\n",
    "    html = browser.html\r\n",
    "    soup = bs(html, \"html.parser\")\r\n",
    "    header=soup.find('img', class_=\"headerimage\")\r\n",
    "    url = url_base + header['src']\r\n",
    "    browser.quit()\r\n",
    "    return url"
   ],
   "outputs": [],
   "metadata": {}
  },
  {
   "cell_type": "code",
   "execution_count": 96,
   "source": [
    "def get_mars_table(file_name):     \r\n",
    "    url = \"https://galaxyfacts-mars.com/\"\r\n",
    "    match = \"Equatorial Diameter\"\r\n",
    "    df_list = pd.read_html(url,match=match)\r\n",
    "    df_list[0].to_html(file_name,index=False,header=False,classes=[\"table\", \"table-striped\"])\r\n",
    "    return "
   ],
   "outputs": [],
   "metadata": {}
  },
  {
   "cell_type": "code",
   "execution_count": 102,
   "source": [
    "def get_hemispheres():\r\n",
    "    url_base = \"https://marshemispheres.com/index.html\"\r\n",
    "    executable_path = {'executable_path': ChromeDriverManager().install()}\r\n",
    "    browser = Browser('chrome', **executable_path, headless=False)\r\n",
    "    \r\n",
    "    # open the landing page \r\n",
    "    browser.visit(url_base)\r\n",
    "    time.sleep(5)\r\n",
    "\r\n",
    "    html = browser.html\r\n",
    "    soup = bs(html, \"html.parser\")\r\n",
    "\r\n",
    "    # get the list of links to visit and the hemisphere names\r\n",
    "    link_list = []\r\n",
    "    title_list = []\r\n",
    "    image_list = []\r\n",
    "    for desc in soup.find_all('div',class_=\"description\"):\r\n",
    "        for link in desc.find_all('a'):\r\n",
    "            if link.has_attr('href'):\r\n",
    "                link_list.append(link['href'])\r\n",
    "                long_title = link.find('h3').contents[0]\r\n",
    "                title = long_title[0:long_title.find(\" Enhanced\")]\r\n",
    "                title_list.append(title)\r\n",
    "\r\n",
    "    # loop over the pages to get the url for each of the images \r\n",
    "    for link in link_list:\r\n",
    "        url = \"https://marshemispheres.com/\" + link \r\n",
    "        browser.visit(url)\r\n",
    "        time.sleep(5)\r\n",
    "        \r\n",
    "        html_2 = browser.html\r\n",
    "        soup_2 = bs(html_2, \"html.parser\")\r\n",
    "        div = soup_2.find('div', class_=\"downloads\")\r\n",
    "        a_list = div.find_all('a')\r\n",
    "        for a in a_list:\r\n",
    "            if a.contents[0] == \"Original\":\r\n",
    "                image_list.append(\"https://marshemispheres.com/\"+ a['href'])\r\n",
    "\r\n",
    "    # combine the lists into dictionaries and return \r\n",
    "    ret_list = []\r\n",
    "    for ia in range(len(title_list)):\r\n",
    "        hemisphere = {\"title\":title_list[ia], \"img_url\":image_list[ia]}\r\n",
    "        ret_list.append(hemisphere)\r\n",
    "    \r\n",
    "    browser.quit()         \r\n",
    "    return  ret_list          "
   ],
   "outputs": [],
   "metadata": {}
  },
  {
   "cell_type": "markdown",
   "source": [
    "## Test that the functions work  "
   ],
   "metadata": {}
  },
  {
   "cell_type": "code",
   "execution_count": 104,
   "source": [
    "\r\n",
    "results = get_hemispheres() \r\n",
    "for hemisphere in results:\r\n",
    "    print(hemisphere)"
   ],
   "outputs": [
    {
     "output_type": "stream",
     "name": "stderr",
     "text": [
      "\n",
      "\n",
      "====== WebDriver manager ======\n",
      "Current google-chrome version is 92.0.4515\n",
      "Get LATEST driver version for 92.0.4515\n",
      "Driver [C:\\Users\\alans\\.wdm\\drivers\\chromedriver\\win32\\92.0.4515.43\\chromedriver.exe] found in cache\n"
     ]
    },
    {
     "output_type": "stream",
     "name": "stdout",
     "text": [
      "{'title': 'Cerberus Hemisphere', 'img_url': 'https://marshemispheres.com/images/cerberus_enhanced.tif'}\n",
      "{'title': 'Schiaparelli Hemisphere', 'img_url': 'https://marshemispheres.com/images/schiaparelli_enhanced.tif'}\n",
      "{'title': 'Syrtis Major Hemisphere', 'img_url': 'https://marshemispheres.com/images/syrtis_major_enhanced.tif'}\n",
      "{'title': 'Valles Marineris Hemisphere', 'img_url': 'https://marshemispheres.com/images/valles_marineris_enhanced.tif'}\n"
     ]
    }
   ],
   "metadata": {}
  },
  {
   "cell_type": "code",
   "execution_count": 105,
   "source": [
    "out_file = \"test.html\"\r\n",
    "get_mars_table(out_file)"
   ],
   "outputs": [],
   "metadata": {}
  },
  {
   "cell_type": "code",
   "execution_count": 106,
   "source": [
    "\r\n",
    "url = get_mars_image() \r\n",
    "print(f\"Mars image = {url}\")"
   ],
   "outputs": [
    {
     "output_type": "stream",
     "name": "stderr",
     "text": [
      "\n",
      "\n",
      "====== WebDriver manager ======\n",
      "Current google-chrome version is 92.0.4515\n",
      "Get LATEST driver version for 92.0.4515\n",
      "Driver [C:\\Users\\alans\\.wdm\\drivers\\chromedriver\\win32\\92.0.4515.43\\chromedriver.exe] found in cache\n"
     ]
    },
    {
     "output_type": "stream",
     "name": "stdout",
     "text": [
      "Mars image = https://spaceimages-mars.com/image/featured/mars2.jpg\n"
     ]
    }
   ],
   "metadata": {}
  },
  {
   "cell_type": "code",
   "execution_count": 108,
   "source": [
    "list_date,title,para = get_last_news()     \r\n",
    "print(f\"title = {title}\")\r\n",
    "print(f\"text = {para}\")\r\n",
    "print(f\"date = {list_date}\")"
   ],
   "outputs": [
    {
     "output_type": "stream",
     "name": "stderr",
     "text": [
      "\n",
      "\n",
      "====== WebDriver manager ======\n",
      "Current google-chrome version is 92.0.4515\n",
      "Get LATEST driver version for 92.0.4515\n",
      "Driver [C:\\Users\\alans\\.wdm\\drivers\\chromedriver\\win32\\92.0.4515.43\\chromedriver.exe] found in cache\n"
     ]
    },
    {
     "output_type": "stream",
     "name": "stdout",
     "text": [
      "title = NASA Mars Mission Connects With Bosnian and Herzegovinian Town\n",
      "text = A letter from NASA was presented to the mayor of Jezero, Bosnia-Herzegovina, honoring the connection between the town and Jezero Crater, the Mars 2020 rover landing site.\n",
      "date = July 28, 2021\n"
     ]
    }
   ],
   "metadata": {}
  }
 ],
 "metadata": {
  "orig_nbformat": 4,
  "language_info": {
   "name": "python",
   "version": "3.8.5",
   "mimetype": "text/x-python",
   "codemirror_mode": {
    "name": "ipython",
    "version": 3
   },
   "pygments_lexer": "ipython3",
   "nbconvert_exporter": "python",
   "file_extension": ".py"
  },
  "kernelspec": {
   "name": "python3",
   "display_name": "Python 3.8.5 64-bit ('PythonData': conda)"
  },
  "interpreter": {
   "hash": "9bffe33b5fd20bd79db2aeb53e20f32ff9281612073e95f8cc7d91022c1172a1"
  }
 },
 "nbformat": 4,
 "nbformat_minor": 2
}